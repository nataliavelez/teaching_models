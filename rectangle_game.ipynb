{
 "cells": [
  {
   "cell_type": "markdown",
   "metadata": {},
   "source": [
    "# Recreating figure 3 (rectangle game heatmap) from Shafto 2014\n",
    "\n",
    "- $6 \\times 6$ grid\n",
    "- Hypothesis space is all $2 \\times 2$ to $5 \\times 5$ rectangles (there should be 196 rectangles)\n",
    "- Data points include all pairs of pixels, with pixels at each location being either a positive or negative example, like the line game. There should be 2520 unique labeled pairs."
   ]
  },
  {
   "cell_type": "code",
   "execution_count": null,
   "metadata": {},
   "outputs": [],
   "source": [
    "import numpy as np\n",
    "import pandas as pd\n",
    "import matplotlib.pyplot as plt\n",
    "import seaborn as sns"
   ]
  },
  {
   "cell_type": "markdown",
   "metadata": {},
   "source": [
    "## Generate hypothesis space"
   ]
  },
  {
   "cell_type": "code",
   "execution_count": null,
   "metadata": {},
   "outputs": [],
   "source": [
    "empty_grid = np.zeros((6, 6))"
   ]
  },
  {
   "cell_type": "code",
   "execution_count": null,
   "metadata": {},
   "outputs": [],
   "source": [
    "# Find all possible rectangle sizes and create rectangle for each size\n",
    "rectangles = {}\n",
    "for i in range(2, 6):\n",
    "    for j in range(2, 6): \n",
    "        rectangles[(i, j)] = np.ones((i, j))"
   ]
  },
  {
   "cell_type": "code",
   "execution_count": null,
   "metadata": {},
   "outputs": [],
   "source": [
    "rectangles.keys()"
   ]
  },
  {
   "cell_type": "code",
   "execution_count": null,
   "metadata": {},
   "outputs": [],
   "source": [
    "# Generate hypothesis space\n",
    "h = []\n",
    "\n",
    "for k, v in rectangles.items():\n",
    "    for i in range(empty_grid.shape[0]-k[0]+1): \n",
    "        for j in range(empty_grid.shape[1]-k[1]+1): \n",
    "            grid = np.zeros((6, 6))\n",
    "            grid[i:v.shape[0]+i, j:v.shape[1]+j] = v\n",
    "            h.append(grid)"
   ]
  },
  {
   "cell_type": "code",
   "execution_count": null,
   "metadata": {},
   "outputs": [],
   "source": [
    "len(h)"
   ]
  },
  {
   "cell_type": "code",
   "execution_count": null,
   "metadata": {},
   "outputs": [],
   "source": [
    "# Check a few items to see if h looks the way we want it to \n",
    "h[:3]"
   ]
  },
  {
   "cell_type": "markdown",
   "metadata": {},
   "source": [
    "## Generate data $(k=2)$"
   ]
  },
  {
   "cell_type": "code",
   "execution_count": null,
   "metadata": {},
   "outputs": [],
   "source": [
    "indices = []\n",
    "for i in range(36): \n",
    "    for j in range(i+1, 36):\n",
    "        indices.append((i, j))"
   ]
  },
  {
   "cell_type": "code",
   "execution_count": null,
   "metadata": {},
   "outputs": [],
   "source": [
    "len(indices)"
   ]
  },
  {
   "cell_type": "code",
   "execution_count": null,
   "metadata": {},
   "outputs": [],
   "source": [
    "empty_d = np.zeros(36)"
   ]
  },
  {
   "cell_type": "code",
   "execution_count": null,
   "metadata": {},
   "outputs": [],
   "source": [
    "def generate_data():\n",
    "    d = []\n",
    "    \n",
    "    combs = [\n",
    "        (1, 0), \n",
    "        (0, 1), \n",
    "        (0, 0), \n",
    "        (1, 1)\n",
    "    ]\n",
    "\n",
    "    for i in indices: \n",
    "        for j in combs: \n",
    "            d_i = np.zeros(36)\n",
    "            d_i[:] = np.nan\n",
    "            d_i[i[0]], d_i[i[1]] = j[0], j[1]\n",
    "            d.append(d_i)\n",
    "    \n",
    "    return d"
   ]
  },
  {
   "cell_type": "code",
   "execution_count": null,
   "metadata": {},
   "outputs": [],
   "source": [
    "d = generate_data()\n",
    "d[:3]"
   ]
  },
  {
   "cell_type": "code",
   "execution_count": null,
   "metadata": {},
   "outputs": [],
   "source": [
    "len(d)"
   ]
  },
  {
   "cell_type": "markdown",
   "metadata": {},
   "source": [
    "### Find iteration 0 probabilities"
   ]
  },
  {
   "cell_type": "code",
   "execution_count": null,
   "metadata": {},
   "outputs": [],
   "source": [
    "d_mask = np.ma.masked_invalid(d)"
   ]
  },
  {
   "cell_type": "code",
   "execution_count": null,
   "metadata": {},
   "outputs": [],
   "source": [
    "for i in range(len(h)): \n",
    "    h[i] = h[i].flatten()"
   ]
  },
  {
   "cell_type": "code",
   "execution_count": null,
   "metadata": {},
   "outputs": [],
   "source": [
    "df_0 = pd.DataFrame(np.zeros((len(d), len(h))))\n",
    "\n",
    "for row_h in range(len(h)): \n",
    "    for row_d in range(len(d)): \n",
    "        if np.array_equal(d[row_d][~d_mask.mask[row_d]], h[row_h][~d_mask.mask[row_d]]):\n",
    "            df_0.iloc[row_d, row_h] = 1  \n",
    "            \n",
    "# Turn values into probabilities; each column sums up to 1\n",
    "df_0 = df_0.div(df_0.sum(axis=0), axis=1)"
   ]
  },
  {
   "cell_type": "code",
   "execution_count": null,
   "metadata": {},
   "outputs": [],
   "source": [
    "df_0"
   ]
  },
  {
   "cell_type": "markdown",
   "metadata": {},
   "source": [
    "### Make heatmaps"
   ]
  },
  {
   "cell_type": "code",
   "execution_count": null,
   "metadata": {},
   "outputs": [],
   "source": [
    "def select_pos_ex_rows(d): \n",
    "    \"\"\"Keep values of rows of d with two positive examples\"\"\"\n",
    "    d_copy = [i.copy() for i in d]  # probably shouldn't have used a list here, oops\n",
    "    d_copy = np.stack(d_copy)\n",
    "    \n",
    "    pos_ex_rows = np.nansum(d_copy, axis=1) == 2\n",
    "    d_copy[~pos_ex_rows] = np.nan\n",
    "    \n",
    "    return d_copy"
   ]
  },
  {
   "cell_type": "code",
   "execution_count": null,
   "metadata": {},
   "outputs": [],
   "source": [
    "def make_heatmap_pos_ex(df, d, h_idx):\n",
    "    d = select_pos_ex_rows(d)\n",
    "    heatmap = np.matmul(np.nan_to_num(d.T), df[h_idx])\n",
    "    heatmap = heatmap / np.sum(heatmap)\n",
    "    heatmap = heatmap.reshape(6, 6)\n",
    "    \n",
    "    return heatmap"
   ]
  },
  {
   "cell_type": "code",
   "execution_count": null,
   "metadata": {},
   "outputs": [],
   "source": [
    "def select_neg_ex_rows(d):\n",
    "    \"\"\"Keep values of rows of d with two negative examples and turn zeros into 1s\"\"\"\n",
    "    d_copy = [i.copy() for i in d]\n",
    "    d_copy = np.stack(d_copy)\n",
    "    \n",
    "    neg_ex_rows = np.nansum(d_copy, axis=1) == 0\n",
    "    d_copy[~neg_ex_rows] = np.nan\n",
    "    d_copy[d_copy == 0] = 1\n",
    "        \n",
    "    return d_copy"
   ]
  },
  {
   "cell_type": "code",
   "execution_count": null,
   "metadata": {},
   "outputs": [],
   "source": [
    "def make_heatmap_neg_ex(df, d, h_idx): \n",
    "    d = select_neg_ex_rows(d)\n",
    "    \n",
    "    heatmap = np.matmul(np.nan_to_num(d.T), df[h_idx])\n",
    "    heatmap = heatmap / np.sum(heatmap)\n",
    "    heatmap = heatmap.reshape(6, 6)\n",
    "    return heatmap"
   ]
  },
  {
   "cell_type": "code",
   "execution_count": null,
   "metadata": {},
   "outputs": [],
   "source": [
    "make_heatmap_pos_ex(df_0, d, 35)"
   ]
  },
  {
   "cell_type": "code",
   "execution_count": null,
   "metadata": {},
   "outputs": [],
   "source": [
    "make_heatmap_neg_ex(df_0, d, 35)"
   ]
  },
  {
   "cell_type": "markdown",
   "metadata": {},
   "source": [
    "### Iterate over model"
   ]
  },
  {
   "cell_type": "code",
   "execution_count": null,
   "metadata": {},
   "outputs": [],
   "source": [
    "def iterate_over_model(n, df_0):\n",
    "    '''\n",
    "    given number of iterations n and P(d|h) matrix for iteration 0, find P(d|h) matrix after iteration n \n",
    "    '''\n",
    "    n_iter = n\n",
    "    df = df_0\n",
    "\n",
    "    for n in range(n_iter): \n",
    "        df = df.div(df.sum(axis=1), axis=0)  # P(h|d)\n",
    "        df = df.div(df.sum(axis=0), axis=1)  # P(d|h)\n",
    "    \n",
    "    return df.fillna(0)"
   ]
  },
  {
   "cell_type": "code",
   "execution_count": null,
   "metadata": {},
   "outputs": [],
   "source": [
    "df_100 = iterate_over_model(100, df_0)"
   ]
  },
  {
   "cell_type": "code",
   "execution_count": null,
   "metadata": {},
   "outputs": [],
   "source": [
    "df_100"
   ]
  },
  {
   "cell_type": "markdown",
   "metadata": {},
   "source": [
    "### A few positive example heatmaps"
   ]
  },
  {
   "cell_type": "code",
   "execution_count": null,
   "metadata": {},
   "outputs": [],
   "source": [
    "sns.heatmap(make_heatmap_pos_ex(df_100, d, 95))"
   ]
  },
  {
   "cell_type": "code",
   "execution_count": null,
   "metadata": {},
   "outputs": [],
   "source": [
    "sns.heatmap(make_heatmap_pos_ex(df_100, d, 192))"
   ]
  },
  {
   "cell_type": "markdown",
   "metadata": {},
   "source": [
    "## Make part a of the figure"
   ]
  },
  {
   "cell_type": "markdown",
   "metadata": {},
   "source": [
    "Indices for the center 3x3 matrices are 95, 96, 99, 100"
   ]
  },
  {
   "cell_type": "code",
   "execution_count": null,
   "metadata": {},
   "outputs": [],
   "source": [
    "# Take mean of the four nonzero parts of the matrices\n",
    "\n",
    "indices = [95, 96, 99, 100]\n",
    "center_matrices = []\n",
    "\n",
    "for i in indices: \n",
    "    heatmap = make_heatmap_pos_ex(df_100, d, i)\n",
    "    center_matrices.append(heatmap[np.nonzero(heatmap)].reshape(3, 3))\n",
    "\n",
    "center_matrices = np.stack(center_matrices)\n",
    "center_matrices_heatmap = np.mean(center_matrices, axis=0)"
   ]
  },
  {
   "cell_type": "code",
   "execution_count": null,
   "metadata": {},
   "outputs": [],
   "source": [
    "center_matrices[0]"
   ]
  },
  {
   "cell_type": "code",
   "execution_count": null,
   "metadata": {},
   "outputs": [],
   "source": [
    "center_matrices_heatmap"
   ]
  },
  {
   "cell_type": "code",
   "execution_count": null,
   "metadata": {},
   "outputs": [],
   "source": [
    "# Find corners and non corners \n",
    "corner_idx = np.array([\n",
    "    [1, 0, 1],\n",
    "    [0, 0, 0], \n",
    "    [1, 0, 1]\n",
    "])\n",
    "\n",
    "corners = center_matrices_heatmap[corner_idx == 1]\n",
    "non_corners = center_matrices_heatmap[corner_idx != 1]"
   ]
  },
  {
   "cell_type": "code",
   "execution_count": null,
   "metadata": {},
   "outputs": [],
   "source": [
    "# Find probabilities per unit area \n",
    "corner_breakdown = [np.sum(corners) / len(corners), np.sum(non_corners) / len(non_corners)]\n",
    "corner_breakdown = corner_breakdown / np.sum(corner_breakdown)\n",
    "\n",
    "corner_breakdown = {\n",
    "    'corners': corner_breakdown[0],\n",
    "    'non_corners': corner_breakdown[1]\n",
    "}"
   ]
  },
  {
   "cell_type": "code",
   "execution_count": null,
   "metadata": {},
   "outputs": [],
   "source": [
    "corner_breakdown"
   ]
  },
  {
   "cell_type": "code",
   "execution_count": null,
   "metadata": {},
   "outputs": [],
   "source": [
    "corner_noncorner_heatmap = np.empty((3, 3))\n",
    "corner_noncorner_heatmap[corner_idx == 1] = corner_breakdown['corners']\n",
    "corner_noncorner_heatmap[corner_idx == 0] = corner_breakdown['non_corners']"
   ]
  },
  {
   "cell_type": "code",
   "execution_count": null,
   "metadata": {},
   "outputs": [],
   "source": [
    "plt.figure(figsize=(4, 3))\n",
    "_ = sns.heatmap(corner_noncorner_heatmap, vmin=0, vmax=1, cmap='BuPu', xticklabels=False, yticklabels=False)"
   ]
  },
  {
   "cell_type": "code",
   "execution_count": null,
   "metadata": {},
   "outputs": [],
   "source": [
    "plt.bar(corner_breakdown.keys(), corner_breakdown.values())\n",
    "plt.ylim((0, 1))\n",
    "plt.ylabel('relative probability per unit area')\n",
    "plt.show()"
   ]
  },
  {
   "cell_type": "markdown",
   "metadata": {},
   "source": [
    "## Negative examples heatmap"
   ]
  },
  {
   "cell_type": "code",
   "execution_count": null,
   "metadata": {},
   "outputs": [],
   "source": [
    "# indices = [95, 96, 99, 100]\n",
    "# center_matrices = []\n",
    "\n",
    "# for i in indices: \n",
    "#     heatmap = make_heatmap_neg_ex(df_100, d, i)\n",
    "#     center_matrices.append(heatmap[np.nonzero(heatmap)].reshape(3, 3))\n",
    "\n",
    "# center_matrices = np.stack(center_matrices)\n",
    "# center_matrices_heatmap = np.mean(center_matrices, axis=0)"
   ]
  },
  {
   "cell_type": "code",
   "execution_count": null,
   "metadata": {},
   "outputs": [],
   "source": [
    "make_heatmap_neg_ex(df_100, d, 95)"
   ]
  },
  {
   "cell_type": "code",
   "execution_count": null,
   "metadata": {},
   "outputs": [],
   "source": [
    "sns.heatmap(make_heatmap_neg_ex(df_100, d, 95))"
   ]
  },
  {
   "cell_type": "code",
   "execution_count": null,
   "metadata": {},
   "outputs": [],
   "source": [
    "sns.heatmap(make_heatmap_neg_ex(df_100, d, 13))"
   ]
  },
  {
   "cell_type": "markdown",
   "metadata": {},
   "source": [
    "## Part b of the figure"
   ]
  }
 ],
 "metadata": {
  "kernelspec": {
   "display_name": "Python 3",
   "language": "python",
   "name": "python3"
  },
  "language_info": {
   "codemirror_mode": {
    "name": "ipython",
    "version": 3
   },
   "file_extension": ".py",
   "mimetype": "text/x-python",
   "name": "python",
   "nbconvert_exporter": "python",
   "pygments_lexer": "ipython3",
   "version": "3.7.9"
  }
 },
 "nbformat": 4,
 "nbformat_minor": 4
}
