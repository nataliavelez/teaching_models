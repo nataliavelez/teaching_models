{
 "cells": [
  {
   "cell_type": "code",
   "execution_count": null,
   "id": "recent-agency",
   "metadata": {},
   "outputs": [],
   "source": [
    "import numpy as np\n",
    "import pandas as pd\n",
    "import matplotlib.pyplot as plt\n",
    "import seaborn as sns\n",
    "from make_df import make_df_from_spreadsheet\n",
    "from rectangle_model import *"
   ]
  },
  {
   "cell_type": "code",
   "execution_count": null,
   "id": "familiar-dealer",
   "metadata": {},
   "outputs": [],
   "source": [
    "filename = 'teaching_stimuli - all_examples.csv'\n",
    "all_problems = make_df_from_spreadsheet(filename)"
   ]
  },
  {
   "cell_type": "code",
   "execution_count": null,
   "id": "front-attribute",
   "metadata": {},
   "outputs": [],
   "source": [
    "problem = {}\n",
    "problem[0] = find_teacher_probs(0, 43, all_problems)  # 0 iterations\n",
    "problem[500] = find_teacher_probs(500, 43, all_problems)"
   ]
  },
  {
   "cell_type": "code",
   "execution_count": null,
   "id": "unauthorized-landing",
   "metadata": {},
   "outputs": [],
   "source": [
    "def entropy_plot(problem, exs, problem_index):\n",
    "    \n",
    "    # Probabilities over h_1\n",
    "    p_h1_0 = [problem[0][1]['h'].loc[exs[0], 'h_1'], \n",
    "            problem[0][2]['h'].loc[exs[1], 'h_1'], \n",
    "            problem[0][3]['h'].loc[exs[2], 'h_1']]\n",
    "\n",
    "    p_h1_500 = [problem[500][1]['h'].loc[exs[0], 'h_1'], \n",
    "            problem[500][2]['h'].loc[exs[1], 'h_1'], \n",
    "            problem[500][3]['h'].loc[exs[2], 'h_1']]\n",
    "\n",
    "    n_ex = range(1,4)\n",
    "    \n",
    "    # Probabilities over all hypotheses\n",
    "    p_h_0 = [problem[0][1]['h'].loc[exs[0]], \n",
    "        problem[0][2]['h'].loc[exs[1]], \n",
    "        problem[0][3]['h'].loc[exs[2]]]\n",
    "\n",
    "    p_h_500 = [problem[500][1]['h'].loc[exs[0]], \n",
    "            problem[500][2]['h'].loc[exs[1]], \n",
    "            problem[500][3]['h'].loc[exs[2]]]\n",
    "    \n",
    "    # Calculate entropy\n",
    "    s_0 = [entropy(p_h_0[i].to_numpy()) for i in range(len(p_h_0))]\n",
    "    s_500 = [entropy(p_h_500[i].to_numpy()) for i in range(len(p_h_500))]\n",
    "    \n",
    "    # Calculate correlation\n",
    "    r = np.corrcoef(p_h1_0, p_h1_500)\n",
    "    # print(r)\n",
    "    \n",
    "    plt.figure(figsize=(8,6))\n",
    "    \n",
    "    plt.plot(n_ex, p_h1_0, 'b--', label='Literal')\n",
    "    plt.plot(n_ex, p_h1_500, 'b', label='Pragmatic')\n",
    "\n",
    "    plt.title(f'Problem {problem_index}, learner\\'s belief in $h_1$, $r={r[0, 1]:.3}$')\n",
    "    plt.xlabel('Examples')\n",
    "    plt.ylabel('$P(h_1|d)$')\n",
    "    plt.xticks(n_ex, exs)\n",
    "    plt.ylim((-0.05, 1.05))\n",
    "    plt.tick_params(axis='y', labelcolor='b')\n",
    "    plt.legend(loc='lower left', title='$P(h_1|d)$')\n",
    "    \n",
    "    plt.twinx()\n",
    "    \n",
    "    plt.plot(n_ex, s_0, 'g--', label='Literal')\n",
    "    plt.plot(n_ex, s_500, 'g', label='Pragmatic')\n",
    "    plt.ylabel('Entropy')\n",
    "    plt.tick_params(axis='y', labelcolor='g')\n",
    "    plt.legend(loc='upper left', title='Entropy')\n",
    "    \n",
    "    #plt.tight_layout()\n",
    "    plt.show()"
   ]
  },
  {
   "cell_type": "code",
   "execution_count": null,
   "id": "improved-notification",
   "metadata": {},
   "outputs": [],
   "source": [
    "entropy_plot(problem, [32, (3, 32), (3, 14, 32)], 43)"
   ]
  },
  {
   "cell_type": "code",
   "execution_count": null,
   "id": "appreciated-estimate",
   "metadata": {},
   "outputs": [],
   "source": [
    "entropy_plot(problem, [14, (14, 17), (14, 17, 20)], 43)"
   ]
  }
 ],
 "metadata": {
  "kernelspec": {
   "display_name": "Python 3",
   "language": "python",
   "name": "python3"
  },
  "language_info": {
   "codemirror_mode": {
    "name": "ipython",
    "version": 3
   },
   "file_extension": ".py",
   "mimetype": "text/x-python",
   "name": "python",
   "nbconvert_exporter": "python",
   "pygments_lexer": "ipython3",
   "version": "3.7.9"
  }
 },
 "nbformat": 4,
 "nbformat_minor": 5
}
