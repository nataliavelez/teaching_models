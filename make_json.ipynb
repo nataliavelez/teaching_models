{
 "cells": [
  {
   "cell_type": "code",
   "execution_count": null,
   "id": "loaded-distance",
   "metadata": {},
   "outputs": [],
   "source": [
    "import pandas as pd\n",
    "import numpy as np\n",
    "from make_df import make_df_from_spreadsheet"
   ]
  },
  {
   "cell_type": "code",
   "execution_count": null,
   "id": "loved-shannon",
   "metadata": {},
   "outputs": [],
   "source": [
    "filename = 'teaching_stimuli - all_examples (7).csv'\n",
    "all_problems = make_df_from_spreadsheet(filename)"
   ]
  },
  {
   "cell_type": "code",
   "execution_count": null,
   "id": "surrounded-discount",
   "metadata": {},
   "outputs": [],
   "source": [
    "all_problems"
   ]
  },
  {
   "cell_type": "code",
   "execution_count": null,
   "id": "sporting-apparel",
   "metadata": {},
   "outputs": [],
   "source": [
    "new_columns = ['h1', 'h2', 'h3', 'h4']\n",
    "all_problems.columns = new_columns\n",
    "all_problems"
   ]
  },
  {
   "cell_type": "code",
   "execution_count": null,
   "id": "electric-narrative",
   "metadata": {},
   "outputs": [],
   "source": [
    "all_problems.loc[47]['h1']"
   ]
  },
  {
   "cell_type": "code",
   "execution_count": null,
   "id": "latest-filing",
   "metadata": {},
   "outputs": [],
   "source": [
    "all_problems = all_problems.applymap(lambda x: x.tolist())"
   ]
  },
  {
   "cell_type": "code",
   "execution_count": null,
   "id": "ranking-quilt",
   "metadata": {},
   "outputs": [],
   "source": [
    "probs = [43, 47, 55, 57, 58, 59, 60, 61, 62, 63, 64, 65]"
   ]
  },
  {
   "cell_type": "code",
   "execution_count": null,
   "id": "checked-acting",
   "metadata": {},
   "outputs": [],
   "source": [
    "test_problems = all_problems.loc[probs]"
   ]
  },
  {
   "cell_type": "code",
   "execution_count": null,
   "id": "center-australia",
   "metadata": {},
   "outputs": [],
   "source": [
    "test_problems"
   ]
  },
  {
   "cell_type": "code",
   "execution_count": null,
   "id": "interesting-floating",
   "metadata": {},
   "outputs": [],
   "source": [
    "my_dict = test_problems.to_dict(orient='index')"
   ]
  },
  {
   "cell_type": "code",
   "execution_count": null,
   "id": "universal-allergy",
   "metadata": {},
   "outputs": [],
   "source": [
    "my_dict"
   ]
  },
  {
   "cell_type": "code",
   "execution_count": null,
   "id": "stuffed-dialogue",
   "metadata": {},
   "outputs": [],
   "source": [
    "new_list = [v for _, v in my_dict.items()]"
   ]
  },
  {
   "cell_type": "code",
   "execution_count": null,
   "id": "retained-asset",
   "metadata": {},
   "outputs": [],
   "source": [
    "new_list"
   ]
  },
  {
   "cell_type": "code",
   "execution_count": null,
   "id": "severe-feelings",
   "metadata": {},
   "outputs": [],
   "source": [
    "import json\n",
    "json_probs = json.dumps(new_list)"
   ]
  },
  {
   "cell_type": "code",
   "execution_count": null,
   "id": "neural-confidence",
   "metadata": {},
   "outputs": [],
   "source": [
    "json_probs"
   ]
  },
  {
   "cell_type": "code",
   "execution_count": null,
   "id": "sharp-colony",
   "metadata": {},
   "outputs": [],
   "source": [
    "jsonFile = open(\"problems.json\", \"w\")\n",
    "jsonFile.write(json_probs)\n",
    "jsonFile.close()"
   ]
  }
 ],
 "metadata": {
  "kernelspec": {
   "display_name": "Python 3",
   "language": "python",
   "name": "python3"
  },
  "language_info": {
   "codemirror_mode": {
    "name": "ipython",
    "version": 3
   },
   "file_extension": ".py",
   "mimetype": "text/x-python",
   "name": "python",
   "nbconvert_exporter": "python",
   "pygments_lexer": "ipython3",
   "version": "3.7.9"
  }
 },
 "nbformat": 4,
 "nbformat_minor": 5
}
