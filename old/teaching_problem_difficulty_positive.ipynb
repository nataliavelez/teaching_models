{
 "cells": [
  {
   "cell_type": "markdown",
   "metadata": {},
   "source": [
    "# Estimating the difficulty of teaching problems (positive examples only)\n",
    "Natalia Vélez, November 2020"
   ]
  },
  {
   "cell_type": "code",
   "execution_count": null,
   "metadata": {},
   "outputs": [],
   "source": [
    "%matplotlib inline\n",
    "\n",
    "import numpy as np\n",
    "import pandas as pd\n",
    "import matplotlib.pyplot as plt\n",
    "import seaborn as sns\n",
    "\n",
    "sns.set_style('white')\n",
    "sns.set_context('talk')"
   ]
  },
  {
   "cell_type": "markdown",
   "metadata": {},
   "source": [
    "## Set up an example problem"
   ]
  },
  {
   "cell_type": "markdown",
   "metadata": {},
   "source": [
    "Example problem:"
   ]
  },
  {
   "cell_type": "code",
   "execution_count": null,
   "metadata": {},
   "outputs": [],
   "source": [
    "empty_square = [\n",
    "     [0,0,0,0,0,0],\n",
    "     [0,0,0,0,0,0],\n",
    "     [0,0,0,0,0,0],\n",
    "     [0,0,0,0,0,0],\n",
    "     [0,0,0,0,0,0],\n",
    "     [0,0,0,0,0,0]\n",
    "]\n",
    "\n",
    "squareA = [\n",
    "     [0,0,0,0,0,0],\n",
    "     [0,1,1,1,1,0],\n",
    "     [0,1,1,1,1,0],\n",
    "     [0,1,1,1,1,0],\n",
    "     [0,1,1,1,1,0],\n",
    "     [0,0,0,0,0,0]\n",
    "]\n",
    "\n",
    "squareB = [\n",
    "     [0,0,0,0,0,0],\n",
    "     [0,1,0,0,0,0],\n",
    "     [0,1,1,0,0,0],\n",
    "     [0,1,1,1,0,0],\n",
    "     [0,1,1,1,1,0],\n",
    "     [0,0,0,0,0,0]\n",
    "]\n",
    "\n",
    "squareC = [\n",
    "     [0,0,0,0,0,0],\n",
    "     [0,1,1,1,1,0],\n",
    "     [0,0,1,1,1,0],\n",
    "     [0,0,0,1,1,0],\n",
    "     [0,0,0,0,1,0],\n",
    "     [0,0,0,0,0,0]\n",
    "]\n",
    "\n",
    "squareD = [\n",
    "     [0,0,0,0,0,0],\n",
    "     [0,1,1,1,0,0],\n",
    "     [0,1,1,1,1,0],\n",
    "     [0,1,1,1,1,0],\n",
    "     [0,0,1,1,1,0],\n",
    "     [0,0,0,0,0,0]\n",
    "]\n",
    "\n",
    "example_problem = np.array([squareA, squareB, squareC, squareD])\n",
    "print(example_problem.shape)"
   ]
  },
  {
   "cell_type": "markdown",
   "metadata": {},
   "source": [
    "Helper: Plot problems"
   ]
  },
  {
   "cell_type": "code",
   "execution_count": null,
   "metadata": {},
   "outputs": [],
   "source": [
    "def plot_problem(problem):\n",
    "    fig, ax = plt.subplots(1,4, figsize = (16,4))\n",
    "    opt_labels = 'ABCD'\n",
    "\n",
    "    for idx,ax_i in enumerate(ax):\n",
    "        hm = sns.heatmap(problem[idx,:,:], ax=ax_i,\n",
    "                         cmap='gray_r', cbar=False,\n",
    "                         linewidths=2, linecolor='#808080')\n",
    "        ax_i.set(xticks=[], yticks=[], title=opt_labels[idx])     "
   ]
  },
  {
   "cell_type": "code",
   "execution_count": null,
   "metadata": {},
   "outputs": [],
   "source": [
    "plot_problem(example_problem)"
   ]
  },
  {
   "cell_type": "markdown",
   "metadata": {},
   "source": [
    "## Evaluate examples literally"
   ]
  },
  {
   "cell_type": "markdown",
   "metadata": {},
   "source": [
    "Helper: Plot examples"
   ]
  },
  {
   "cell_type": "code",
   "execution_count": null,
   "metadata": {},
   "outputs": [],
   "source": [
    "true_concept = np.array(squareC)\n",
    "example_mask = np.array([\n",
    "    [1,1,1,1,1,1],\n",
    "    [1,0,1,1,1,1],\n",
    "    [1,1,0,1,1,1],\n",
    "    [1,1,0,1,1,1],\n",
    "    [1,1,1,1,1,1],\n",
    "    [1,1,1,1,1,1],\n",
    "]).astype(np.bool)\n",
    "\n",
    "example = np.ma.masked_array(true_concept, mask=example_mask).astype(np.float)\n",
    "\n",
    "def plot_example(ex):\n",
    "    example_view = ex.filled(0.5)\n",
    "    ax = sns.heatmap(example_view, vmin=0, vmax=1, \n",
    "                     cmap='gray_r', cbar=False, square = True,\n",
    "                     linewidths=1, linecolor='#808080')\n",
    "    ax.set(xticks=[],yticks=[])"
   ]
  },
  {
   "cell_type": "code",
   "execution_count": null,
   "metadata": {},
   "outputs": [],
   "source": [
    "plot_example(example)"
   ]
  },
  {
   "cell_type": "markdown",
   "metadata": {},
   "source": [
    "All possible combinations of examples:"
   ]
  },
  {
   "cell_type": "code",
   "execution_count": null,
   "metadata": {},
   "outputs": [],
   "source": [
    "n = 36\n",
    "ex_1 = [[i] for i in  range(n)]\n",
    "ex_2 = [[i,j] for i in range(n) for j in range(i+1,n)]\n",
    "ex_3 = [[i,j,k] for i in range(n) for j in range(i+1,n) for k in range(j+1,n)]\n",
    "\n",
    "print('Singles: %i' % len(ex_1))\n",
    "print('Doubles: %i' % len(ex_2))\n",
    "print('Triples: %i' % len(ex_3))"
   ]
  },
  {
   "cell_type": "markdown",
   "metadata": {},
   "source": [
    "Check if a list of indices fully disambiguates a concept:"
   ]
  },
  {
   "cell_type": "code",
   "execution_count": null,
   "metadata": {},
   "outputs": [],
   "source": [
    "def idx_to_mask(idx):\n",
    "    ex = np.zeros(36)\n",
    "    ex[idx] = 1\n",
    "    ex = np.reshape(ex, (6,6))\n",
    "    ex = ex.astype(np.bool)\n",
    "    \n",
    "    return ex\n",
    "\n",
    "def disambiguates(idx, target, problem):\n",
    "    mask = idx_to_mask(idx)\n",
    "    true_h = problem[target,:,:]\n",
    "    \n",
    "    any_matches = False\n",
    "    for i in range(problem.shape[0]):\n",
    "        if i != target:\n",
    "            distractor_h = problem[i,:,:]\n",
    "            any_matches = np.array_equal(true_h[mask], distractor_h[mask])\n",
    "            if any_matches:\n",
    "                break\n",
    "                \n",
    "    return not any_matches"
   ]
  },
  {
   "cell_type": "markdown",
   "metadata": {},
   "source": [
    "How many examples do you need to disambiguate the concept?"
   ]
  },
  {
   "cell_type": "code",
   "execution_count": null,
   "metadata": {},
   "outputs": [],
   "source": [
    "all_examples = ex_1+ex_2+ex_3\n",
    "def minimum_all(target, problem, example_space=all_examples):\n",
    "    n = np.nan\n",
    "    ex_mask = np.empty((6,6))\n",
    "    for ex in example_space:\n",
    "        if disambiguates(ex, target, problem):\n",
    "            ex_mask = idx_to_mask(ex)\n",
    "            n = len(ex)\n",
    "            break\n",
    "            \n",
    "    return n, ex_mask"
   ]
  },
  {
   "cell_type": "code",
   "execution_count": null,
   "metadata": {},
   "outputs": [],
   "source": [
    "for i in range(4):\n",
    "    n, _ = minimum_all(i, example_problem)\n",
    "    print(n)"
   ]
  },
  {
   "cell_type": "code",
   "execution_count": null,
   "metadata": {},
   "outputs": [],
   "source": [
    "### Filling dataframe from make_df_from_spreadsheet with k values\n",
    "# making new df\n",
    "# df_copy = df.copy()"
   ]
  },
  {
   "cell_type": "code",
   "execution_count": null,
   "metadata": {},
   "outputs": [],
   "source": [
    "# added_columns = ['k_1', 'k_2', 'k_3', 'k_4']\n",
    "# columns = df_copy.columns.tolist()"
   ]
  },
  {
   "cell_type": "code",
   "execution_count": null,
   "metadata": {},
   "outputs": [],
   "source": [
    "# for index, row in df_copy.iterrows(): \n",
    "#     sample_problem = df_copy.loc[index,columns].to_numpy()\n",
    "#     sample_problem = np.array([item for item in sample_problem])\n",
    "#     for i in range(4): \n",
    "#         df.loc[index, added_columns[i]] = minimum_all(i, sample_problem)[0]\n",
    "# df\n",
    "\n",
    "# # saving\n",
    "# df.to_csv('output.csv')"
   ]
  },
  {
   "cell_type": "markdown",
   "metadata": {},
   "source": [
    "**new:** Disambiguating using only positive examples"
   ]
  },
  {
   "cell_type": "code",
   "execution_count": null,
   "metadata": {},
   "outputs": [],
   "source": [
    "def positive_indices(concept):\n",
    "    pos_coords = np.nonzero(concept)\n",
    "    pos_idx = np.ravel_multi_index(pos_coords, (6,6))\n",
    "    pos_idx = list(pos_idx)\n",
    "    n_idx = len(pos_idx)\n",
    "\n",
    "    indices = []\n",
    "\n",
    "    for i in range(n_idx):\n",
    "        indices.append([pos_idx[i]])\n",
    "        for j in range(i+1, n_idx):\n",
    "            indices.append([pos_idx[i],pos_idx[j]])\n",
    "            for k in range(j+1, n_idx):\n",
    "                indices.append([pos_idx[i],pos_idx[j],pos_idx[k]])\n",
    "                for l in range(k+1, n_idx):\n",
    "                    indices.append([pos_idx[i],pos_idx[j],pos_idx[k],pos_idx[l]])\n",
    "                \n",
    "    indices = sorted(indices, key=len)\n",
    "    return indices\n",
    "\n",
    "def minimum_positive(target, problem):\n",
    "    pos_examples = positive_indices(problem[target,:,:])\n",
    "    n, ex_mask = minimum_all(target, problem, pos_examples)\n",
    "    return n, ex_mask"
   ]
  },
  {
   "cell_type": "code",
   "execution_count": null,
   "metadata": {},
   "outputs": [],
   "source": [
    "minimum_positive(1, example_problem)"
   ]
  }
 ],
 "metadata": {
  "kernelspec": {
   "display_name": "Python 3",
   "language": "python",
   "name": "python3"
  },
  "language_info": {
   "codemirror_mode": {
    "name": "ipython",
    "version": 3
   },
   "file_extension": ".py",
   "mimetype": "text/x-python",
   "name": "python",
   "nbconvert_exporter": "python",
   "pygments_lexer": "ipython3",
   "version": "3.7.9"
  }
 },
 "nbformat": 4,
 "nbformat_minor": 4
}
