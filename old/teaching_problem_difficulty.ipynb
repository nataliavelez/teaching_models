{
 "cells": [
  {
   "cell_type": "markdown",
   "metadata": {},
   "source": [
    "# Teaching: Estimating the difficulty of teaching problems\n",
    "Natalia Vélez, October 2020"
   ]
  },
  {
   "cell_type": "code",
   "execution_count": null,
   "metadata": {},
   "outputs": [],
   "source": [
    "%matplotlib inline\n",
    "\n",
    "import numpy as np\n",
    "import pandas as pd\n",
    "import matplotlib.pyplot as plt\n",
    "import seaborn as sns\n",
    "\n",
    "sns.set_style('white')\n",
    "sns.set_context('talk')"
   ]
  },
  {
   "cell_type": "markdown",
   "metadata": {},
   "source": [
    "## Set up an example problem"
   ]
  },
  {
   "cell_type": "markdown",
   "metadata": {},
   "source": [
    "Example problem:"
   ]
  },
  {
   "cell_type": "code",
   "execution_count": null,
   "metadata": {},
   "outputs": [],
   "source": [
    "empty_square = [\n",
    "     [0,0,0,0,0,0],\n",
    "     [0,0,0,0,0,0],\n",
    "     [0,0,0,0,0,0],\n",
    "     [0,0,0,0,0,0],\n",
    "     [0,0,0,0,0,0],\n",
    "     [0,0,0,0,0,0]\n",
    "]\n",
    "\n",
    "squareA = [\n",
    "     [0,0,0,0,0,0],\n",
    "     [0,1,1,1,1,0],\n",
    "     [0,1,1,1,1,0],\n",
    "     [0,0,0,0,0,0],\n",
    "     [0,0,0,0,0,0],\n",
    "     [0,0,0,0,0,0]\n",
    "]\n",
    "\n",
    "squareB = [\n",
    "     [0,0,0,0,0,0],\n",
    "     [0,0,0,0,0,0],\n",
    "     [0,0,0,0,0,0],\n",
    "     [0,1,1,1,1,0],\n",
    "     [0,1,1,1,1,0],\n",
    "     [0,0,0,0,0,0]\n",
    "]\n",
    "\n",
    "squareC = [\n",
    "     [0,0,0,0,0,0],\n",
    "     [0,1,1,0,0,0],\n",
    "     [0,1,1,0,0,0],\n",
    "     [0,1,1,0,0,0],\n",
    "     [0,1,1,0,0,0],\n",
    "     [0,0,0,0,0,0]\n",
    "]\n",
    "\n",
    "squareD = [\n",
    "     [0,0,0,0,0,0],\n",
    "     [0,0,0,1,1,0],\n",
    "     [0,0,0,1,1,0],\n",
    "     [0,0,0,1,1,0],\n",
    "     [0,0,0,1,1,0],\n",
    "     [0,0,0,0,0,0]\n",
    "]\n",
    "\n",
    "example_problem = np.array([squareA, squareB, squareC, squareD])\n",
    "print(example_problem.shape)"
   ]
  },
  {
   "cell_type": "markdown",
   "metadata": {},
   "source": [
    "Helper: Plot problems"
   ]
  },
  {
   "cell_type": "code",
   "execution_count": null,
   "metadata": {},
   "outputs": [],
   "source": [
    "def plot_problem(problem):\n",
    "    fig, ax = plt.subplots(1,4, figsize = (16,4))\n",
    "    opt_labels = 'ABCD'\n",
    "\n",
    "    for idx,ax_i in enumerate(ax):\n",
    "        hm = sns.heatmap(problem[idx,:,:], ax=ax_i,\n",
    "                         cmap='gray_r', cbar=False,\n",
    "                         linewidths=2, linecolor='#808080')\n",
    "        ax_i.set(xticks=[], yticks=[], title=opt_labels[idx])     "
   ]
  },
  {
   "cell_type": "code",
   "execution_count": null,
   "metadata": {},
   "outputs": [],
   "source": [
    "plot_problem(example_problem)"
   ]
  },
  {
   "cell_type": "markdown",
   "metadata": {},
   "source": [
    "## Evaluate examples literally"
   ]
  },
  {
   "cell_type": "markdown",
   "metadata": {},
   "source": [
    "Helper: Plot examples"
   ]
  },
  {
   "cell_type": "code",
   "execution_count": null,
   "metadata": {},
   "outputs": [],
   "source": [
    "true_concept = np.array(squareC)\n",
    "example_mask = np.array([\n",
    "    [1,1,1,1,1,1],\n",
    "    [1,0,1,1,1,1],\n",
    "    [1,1,0,1,1,1],\n",
    "    [1,1,0,1,1,1],\n",
    "    [1,1,1,1,1,1],\n",
    "    [1,1,1,1,1,1],\n",
    "]).astype(np.bool)\n",
    "\n",
    "example = np.ma.masked_array(true_concept, mask=example_mask).astype(np.float) # keeps the 0 values\n",
    "\n",
    "def plot_example(ex):\n",
    "    example_view = ex.filled(0.5)\n",
    "    ax = sns.heatmap(example_view, vmin=0, vmax=1, \n",
    "                     cmap='gray_r', cbar=False, square = True,\n",
    "                     linewidths=1, linecolor='#808080')\n",
    "    ax.set(xticks=[],yticks=[])"
   ]
  },
  {
   "cell_type": "code",
   "execution_count": null,
   "metadata": {},
   "outputs": [],
   "source": [
    "plot_example(example)"
   ]
  },
  {
   "cell_type": "markdown",
   "metadata": {},
   "source": [
    "All possible combinations of examples:"
   ]
  },
  {
   "cell_type": "code",
   "execution_count": null,
   "metadata": {},
   "outputs": [],
   "source": [
    "n = 36\n",
    "ex_1 = [[i] for i in  range(n)]\n",
    "ex_2 = [[i,j] for i in range(n) for j in range(i+1,n)]\n",
    "ex_3 = [[i,j,k] for i in range(n) for j in range(i+1,n) for k in range(j+1,n)]\n",
    "\n",
    "print('Singles: %i' % len(ex_1))\n",
    "print('Doubles: %i' % len(ex_2))\n",
    "print('Triples: %i' % len(ex_3))"
   ]
  },
  {
   "cell_type": "markdown",
   "metadata": {},
   "source": [
    "Check if a list of indices fully disambiguates a concept:"
   ]
  },
  {
   "cell_type": "code",
   "execution_count": null,
   "metadata": {},
   "outputs": [],
   "source": [
    "def idx_to_mask(idx):\n",
    "    '''\n",
    "    returns 6x6 mask given list of indices (indices go thru rows horizontally)\n",
    "    '''\n",
    "    ex = np.zeros(36)\n",
    "    ex[idx] = 1\n",
    "    ex = np.reshape(ex, (6,6))\n",
    "    ex = ex.astype(np.bool)\n",
    "    \n",
    "    return ex\n",
    "\n",
    "def disambiguates(idx, target, problem):\n",
    "    '''\n",
    "    tells you whether or not a specific index disambiguates target grid from the other ones in the problem \n",
    "    \n",
    "    idx is list of indices you are checking\n",
    "    target is the index of the grid you are trying to disambiguate\n",
    "    problem is the problem\n",
    "    '''\n",
    "    mask = idx_to_mask(idx)\n",
    "    true_h = problem[target,:,:] # finding grid you are trying to disambiguate\n",
    "    \n",
    "    any_matches = False\n",
    "    for i in range(problem.shape[0]): # number of concepts to disambiguate (4)\n",
    "        if i != target: # loop over grids that are not the one you are trying to disambiguate\n",
    "            distractor_h = problem[i,:,:] # finding grid to test \n",
    "            any_matches = np.array_equal(true_h[mask], distractor_h[mask])\n",
    "            if any_matches: # returns true if it does not disambiguate \n",
    "                break\n",
    "                \n",
    "    return not any_matches"
   ]
  },
  {
   "cell_type": "markdown",
   "metadata": {},
   "source": [
    "How many examples do you need to disambiguate the concept?"
   ]
  },
  {
   "cell_type": "code",
   "execution_count": null,
   "metadata": {},
   "outputs": [],
   "source": [
    "all_examples = ex_1+ex_2+ex_3 # list of all combos of coordinates\n",
    "\n",
    "def minimum_all(target, problem, example_space=all_examples):\n",
    "    '''\n",
    "    target is the index of the square you're trying to disambiguate\n",
    "    problem is an array of the problems\n",
    "    example space is the list of all combinations of squares (indices) (size 1, 2, and 3 in this case) to test \n",
    "    \n",
    "    requires that example_space goes from smaller to larger\n",
    "    '''\n",
    "    n = np.nan\n",
    "    ex_mask = np.empty((6,6))\n",
    "    for ex in example_space:\n",
    "        if disambiguates(ex, target, problem):\n",
    "            ex_mask = idx_to_mask(ex)\n",
    "            n = len(ex)\n",
    "            break\n",
    "            \n",
    "    return n, ex_mask"
   ]
  },
  {
   "cell_type": "code",
   "execution_count": null,
   "metadata": {},
   "outputs": [],
   "source": [
    "# for i in range(4):\n",
    "#     n, _ = minimum_all(i, example_problem)\n",
    "#     print(n)"
   ]
  },
  {
   "cell_type": "markdown",
   "metadata": {},
   "source": [
    "**new:** Disambiguating using only positive examples"
   ]
  },
  {
   "cell_type": "code",
   "execution_count": null,
   "metadata": {},
   "outputs": [],
   "source": [
    "def positive_indices(concept):\n",
    "    '''\n",
    "    returns all combos of positive indices for a concept (a concept is a 6x6 array)\n",
    "    '''\n",
    "    pos_coords = np.nonzero(concept) # returns indices of concept (where there are ones)\n",
    "    pos_idx = np.ravel_multi_index(pos_coords, (6,6)) # returns indices (linear)\n",
    "    pos_idx = list(pos_idx)\n",
    "    n_idx = len(pos_idx)\n",
    "\n",
    "    indices = []\n",
    "    \n",
    "    # find length of indices\n",
    "    for i in range(n_idx):\n",
    "        indices.append([pos_idx[i]])\n",
    "        for j in range(i+1, n_idx):\n",
    "            indices.append([pos_idx[i],pos_idx[j]])\n",
    "            for k in range(j+1, n_idx):\n",
    "                indices.append([pos_idx[i],pos_idx[j],pos_idx[k]])\n",
    "    \n",
    "    # sort indices by length\n",
    "    indices = sorted(indices, key=len)\n",
    "    return indices\n",
    "\n",
    "def minimum_positive(target, problem):\n",
    "    pos_examples = positive_indices(problem[target,:,:])\n",
    "    n, ex_mask = minimum_all(target, problem, pos_examples)\n",
    "    return n, ex_mask"
   ]
  },
  {
   "cell_type": "markdown",
   "metadata": {},
   "source": [
    "### Filling dataframe with k values\n",
    "\n",
    "For two cases: pos/neg and pos examples"
   ]
  },
  {
   "cell_type": "code",
   "execution_count": null,
   "metadata": {},
   "outputs": [],
   "source": [
    "from make_df import make_df_from_spreadsheet\n",
    "\n",
    "filename = '/Users/aliciachen/Dropbox/teaching_models/teaching_stimuli - Sheet1 (5).csv'\n",
    "example_df = make_df_from_spreadsheet(filename)"
   ]
  },
  {
   "cell_type": "code",
   "execution_count": null,
   "metadata": {},
   "outputs": [],
   "source": [
    "def add_example_difficulty(df):\n",
    "    \n",
    "    df_copy = df.copy()\n",
    "\n",
    "    added_columns = ['k_1', 'k_2', 'k_3', 'k_4']\n",
    "    columns = df_copy.columns.tolist()\n",
    "\n",
    "    for index, row in df_copy.iterrows(): \n",
    "        sample_problem = df_copy.loc[index,columns].to_numpy(dtype=object)\n",
    "        sample_problem = np.array([item for item in sample_problem])\n",
    "        for i in range(4): \n",
    "            df_copy.loc[index, added_columns[i]] = minimum_all(i, sample_problem)[0]\n",
    "\n",
    "    # saving\n",
    "    df_copy.to_csv('examples_output.csv')\n",
    "    \n",
    "def add_positive_example_difficulty(df):\n",
    "    \n",
    "    df_copy = df.copy()\n",
    "\n",
    "    added_columns = ['k_1', 'k_2', 'k_3', 'k_4']\n",
    "    columns = df_copy.columns.tolist()\n",
    "\n",
    "    for index, row in df_copy.iterrows(): \n",
    "        sample_problem = df_copy.loc[index,columns].to_numpy(dtype=object)\n",
    "        sample_problem = np.array([item for item in sample_problem])\n",
    "        for i in range(4): \n",
    "            df_copy.loc[index, added_columns[i]] = minimum_positive(i, sample_problem)[0]\n",
    "\n",
    "    # saving\n",
    "    df_copy.to_csv('pos_examples_output.csv')"
   ]
  },
  {
   "cell_type": "code",
   "execution_count": null,
   "metadata": {},
   "outputs": [],
   "source": [
    "add_example_difficulty(example_df)\n",
    "add_positive_example_difficulty(example_df)"
   ]
  }
 ],
 "metadata": {
  "kernelspec": {
   "display_name": "Python 3",
   "language": "python",
   "name": "python3"
  },
  "language_info": {
   "codemirror_mode": {
    "name": "ipython",
    "version": 3
   },
   "file_extension": ".py",
   "mimetype": "text/x-python",
   "name": "python",
   "nbconvert_exporter": "python",
   "pygments_lexer": "ipython3",
   "version": "3.7.9"
  }
 },
 "nbformat": 4,
 "nbformat_minor": 4
}
