{
 "cells": [
  {
   "cell_type": "markdown",
   "metadata": {},
   "source": [
    "# Making plots for pragmatic vs. literal learner\n",
    "\n",
    "- x axis: successive examples (3, then 2, then 1) \n",
    "- y axis: learner's belief over the true hypothesis $P(h|d)$\n",
    "- Literal learner is after 0 iterations, pragmatic learner is after 500 iterations"
   ]
  },
  {
   "cell_type": "code",
   "execution_count": null,
   "metadata": {},
   "outputs": [],
   "source": [
    "import numpy as np\n",
    "import pandas as pd\n",
    "import matplotlib.pyplot as plt\n",
    "import seaborn as sns\n",
    "from make_df import make_df_from_spreadsheet\n",
    "from rectangle_model import *\n",
    "\n",
    "sns.set_style('white')\n",
    "sns.set_context('talk')"
   ]
  },
  {
   "cell_type": "code",
   "execution_count": null,
   "metadata": {},
   "outputs": [],
   "source": [
    "# Import all problems from spreadsheet\n",
    "\n",
    "filename = 'teaching_stimuli - all_examples.csv'\n",
    "all_problems = make_df_from_spreadsheet(filename)"
   ]
  },
  {
   "cell_type": "code",
   "execution_count": null,
   "metadata": {},
   "outputs": [],
   "source": [
    "# Start with example 35\n",
    "\n",
    "problem_35 = {}\n",
    "problem_35[0] = find_teacher_probs(0, 35, all_problems)  # 0 iterations\n",
    "problem_35[500] = find_teacher_probs(500, 35, all_problems)  # 500 iterations"
   ]
  },
  {
   "cell_type": "code",
   "execution_count": null,
   "metadata": {},
   "outputs": [],
   "source": [
    "# View examples\n",
    "\n",
    "plot_high_prob_examples(problem_35, 500, 'd', 35, all_problems)"
   ]
  },
  {
   "cell_type": "code",
   "execution_count": null,
   "metadata": {},
   "outputs": [],
   "source": [
    "# Select a specific set of examples\n",
    "\n",
    "sort_values_ascending_by_column(problem_35[500][3]['h'], 'h_1').head(10)"
   ]
  },
  {
   "cell_type": "code",
   "execution_count": null,
   "metadata": {},
   "outputs": [],
   "source": [
    "sort_values_ascending_by_column(problem_35[0][3]['h'], 'h_1').head(10)"
   ]
  },
  {
   "cell_type": "markdown",
   "metadata": {},
   "source": [
    "## Pragmatic example"
   ]
  },
  {
   "cell_type": "code",
   "execution_count": null,
   "metadata": {},
   "outputs": [],
   "source": [
    "problem_35[500][3]['h'].loc[(14,19,21), :]"
   ]
  },
  {
   "cell_type": "code",
   "execution_count": null,
   "metadata": {},
   "outputs": [],
   "source": [
    "problem_35[500][2]['h'].loc[(14,19), :]"
   ]
  },
  {
   "cell_type": "code",
   "execution_count": null,
   "metadata": {},
   "outputs": [],
   "source": [
    "problem_35[500][1]['h'].loc[(14), :]"
   ]
  },
  {
   "cell_type": "code",
   "execution_count": null,
   "metadata": {},
   "outputs": [],
   "source": [
    "problem_35[500][3]['h'].loc[(7,13,27), :]"
   ]
  },
  {
   "cell_type": "code",
   "execution_count": null,
   "metadata": {},
   "outputs": [],
   "source": [
    "problem_35[500][2]['h'].loc[(7,13), :]"
   ]
  },
  {
   "cell_type": "code",
   "execution_count": null,
   "metadata": {},
   "outputs": [],
   "source": [
    "problem_35[500][1]['h'].loc[(7), :]"
   ]
  },
  {
   "cell_type": "markdown",
   "metadata": {},
   "source": [
    "## Literal example"
   ]
  },
  {
   "cell_type": "code",
   "execution_count": null,
   "metadata": {},
   "outputs": [],
   "source": [
    "problem_35[0][3]['h'].loc[(14,19,21), :]"
   ]
  },
  {
   "cell_type": "code",
   "execution_count": null,
   "metadata": {},
   "outputs": [],
   "source": [
    "problem_35[0][2]['h'].loc[(14,19), :]"
   ]
  },
  {
   "cell_type": "code",
   "execution_count": null,
   "metadata": {},
   "outputs": [],
   "source": [
    "problem_35[0][1]['h'].loc[(14), :]"
   ]
  },
  {
   "cell_type": "code",
   "execution_count": null,
   "metadata": {},
   "outputs": [],
   "source": [
    "problem_35[0][3]['h'].loc[(7,13,27), :]"
   ]
  },
  {
   "cell_type": "code",
   "execution_count": null,
   "metadata": {},
   "outputs": [],
   "source": [
    "problem_35[0][2]['h'].loc[(7,13), :]"
   ]
  },
  {
   "cell_type": "code",
   "execution_count": null,
   "metadata": {},
   "outputs": [],
   "source": [
    "problem_35[0][1]['h'].loc[(7), :]"
   ]
  },
  {
   "cell_type": "code",
   "execution_count": null,
   "metadata": {},
   "outputs": [],
   "source": [
    "from pandas._testing import assert_frame_equal\n",
    "assert_frame_equal(problem_35[0][3]['h'], problem_35[500][3]['h'])\n",
    "# Looks like pragmatic and literal learner are the same for problem 35?"
   ]
  },
  {
   "cell_type": "markdown",
   "metadata": {},
   "source": [
    "## Problem 34"
   ]
  },
  {
   "cell_type": "code",
   "execution_count": null,
   "metadata": {},
   "outputs": [],
   "source": [
    "problem_34 = {}\n",
    "problem_34[0] = find_teacher_probs(0, 34, all_problems)  # 0 iterations\n",
    "problem_34[500] = find_teacher_probs(500, 34, all_problems)  # 500 iterations"
   ]
  },
  {
   "cell_type": "code",
   "execution_count": null,
   "metadata": {},
   "outputs": [],
   "source": [
    "#assert_frame_equal(problem_34[0][3]['h'], problem_34[500][3]['h'])\n",
    "# Pragmatic and literal learner different for problem 35"
   ]
  },
  {
   "cell_type": "code",
   "execution_count": null,
   "metadata": {},
   "outputs": [],
   "source": [
    "plot_high_prob_examples(problem_34, 500, 'd', 34, all_problems)"
   ]
  },
  {
   "cell_type": "code",
   "execution_count": null,
   "metadata": {},
   "outputs": [],
   "source": [
    "# Plot all problem 34 heatmaps\n",
    "\n",
    "iters = [0, 500]\n",
    "k_values = [1, 2, 3]\n",
    "types = {'d': '$P(d|h)$', 'h': '$P(h|d)$'}\n",
    "\n",
    "for k in k_values:\n",
    "    for i in iters:\n",
    "        for t, v in types.items(): \n",
    "            _ = make_and_plot_prob_heatmap(problem_34[i][k][t], f'{i} iterations, k={k}, {v}')\n"
   ]
  },
  {
   "cell_type": "code",
   "execution_count": null,
   "metadata": {},
   "outputs": [],
   "source": [
    "sort_values_ascending_by_column(problem_34[500][3]['h'], 'h_1').head(10)"
   ]
  },
  {
   "cell_type": "code",
   "execution_count": null,
   "metadata": {},
   "outputs": [],
   "source": [
    "sort_values_ascending_by_column(problem_34[0][3]['h'], 'h_1').head(10)"
   ]
  },
  {
   "cell_type": "markdown",
   "metadata": {},
   "source": [
    "## Pragmatic example"
   ]
  },
  {
   "cell_type": "code",
   "execution_count": null,
   "metadata": {},
   "outputs": [],
   "source": [
    "problem_34[500][3]['h'].loc[(8,19,25), :]"
   ]
  },
  {
   "cell_type": "code",
   "execution_count": null,
   "metadata": {},
   "outputs": [],
   "source": [
    "problem_34[500][2]['h'].loc[(8,19), :]"
   ]
  },
  {
   "cell_type": "code",
   "execution_count": null,
   "metadata": {},
   "outputs": [],
   "source": [
    "problem_34[500][1]['h'].loc[(8), :] # Somehow this is greater? "
   ]
  },
  {
   "cell_type": "code",
   "execution_count": null,
   "metadata": {},
   "outputs": [],
   "source": [
    "problem_34[500][1]['h'].loc[(19), :] "
   ]
  },
  {
   "cell_type": "markdown",
   "metadata": {},
   "source": [
    "## Literal example"
   ]
  },
  {
   "cell_type": "code",
   "execution_count": null,
   "metadata": {},
   "outputs": [],
   "source": [
    "problem_34[0][3]['h'].loc[(8,19,25), :]"
   ]
  },
  {
   "cell_type": "code",
   "execution_count": null,
   "metadata": {},
   "outputs": [],
   "source": [
    "problem_34[0][2]['h'].loc[(8,19), :]"
   ]
  },
  {
   "cell_type": "code",
   "execution_count": null,
   "metadata": {},
   "outputs": [],
   "source": [
    "problem_34[0][1]['h'].loc[(19), :] "
   ]
  },
  {
   "cell_type": "markdown",
   "metadata": {},
   "source": [
    "## Example plots"
   ]
  },
  {
   "cell_type": "code",
   "execution_count": null,
   "metadata": {},
   "outputs": [],
   "source": [
    "def plot_probs(problem, exs, prob_num):\n",
    "\n",
    "    plt.figure()\n",
    "\n",
    "    p_h_0 = [problem[0][1]['h'].loc[exs[0], 'h_1'], \n",
    "            problem[0][2]['h'].loc[exs[1], 'h_1'], \n",
    "            problem[0][3]['h'].loc[exs[2], 'h_1']]\n",
    "\n",
    "    p_h_500 = [problem[500][1]['h'].loc[exs[0], 'h_1'], \n",
    "            problem[500][2]['h'].loc[exs[1], 'h_1'], \n",
    "            problem[500][3]['h'].loc[exs[2], 'h_1']]\n",
    "\n",
    "    n_ex = range(1,4)\n",
    "    plt.plot(n_ex, p_h_0, label='Literal learner')\n",
    "    plt.plot(n_ex, p_h_500, label='Pragmatic learner')\n",
    "\n",
    "    plt.title(f'Problem {prob_num}, learner\\'s belief in $h_1$')\n",
    "    plt.xlabel('Examples')\n",
    "    plt.ylabel('$P(h_1|d)$')\n",
    "    plt.xticks(n_ex, exs)\n",
    "    plt.ylim((0, 1))\n",
    "    plt.legend()\n",
    "\n",
    "    plt.show()"
   ]
  },
  {
   "cell_type": "code",
   "execution_count": null,
   "metadata": {},
   "outputs": [],
   "source": [
    "exs = [(19), (8, 19), (8, 19, 25)]\n",
    "\n",
    "plot_probs(problem_34, exs, 34)"
   ]
  },
  {
   "cell_type": "code",
   "execution_count": null,
   "metadata": {},
   "outputs": [],
   "source": [
    "exs = [(8), (8, 19), (8, 19, 25)]\n",
    "plot_probs(problem_34, exs, 34)"
   ]
  },
  {
   "cell_type": "code",
   "execution_count": null,
   "metadata": {},
   "outputs": [],
   "source": [
    "exs = [(8), (8, 25), (8, 19, 25)]\n",
    "plot_probs(problem_34, exs, 34)"
   ]
  },
  {
   "cell_type": "code",
   "execution_count": null,
   "metadata": {},
   "outputs": [],
   "source": [
    "exs = [(7), (7, 13), (7, 13, 27)]\n",
    "plot_probs(problem_35, exs, 35)"
   ]
  },
  {
   "cell_type": "markdown",
   "metadata": {},
   "source": [
    "## Trying problem 46"
   ]
  },
  {
   "cell_type": "code",
   "execution_count": null,
   "metadata": {},
   "outputs": [],
   "source": [
    "problem_46 = {}\n",
    "problem_46[0] = find_teacher_probs(0, 46, all_problems)  # 0 iterations\n",
    "problem_46[500] = find_teacher_probs(500, 46, all_problems)  # 500 iterations"
   ]
  },
  {
   "cell_type": "code",
   "execution_count": null,
   "metadata": {},
   "outputs": [],
   "source": [
    "plot_high_prob_examples(problem_46, 500, 'd', 46, all_problems)"
   ]
  },
  {
   "cell_type": "code",
   "execution_count": null,
   "metadata": {},
   "outputs": [],
   "source": [
    "sort_values_ascending_by_column(problem_46[500][3]['h'], 'h_1').head(10)"
   ]
  },
  {
   "cell_type": "code",
   "execution_count": null,
   "metadata": {},
   "outputs": [],
   "source": [
    "exs = [(4), (4, 12), (2, 4, 12)]\n",
    "plot_probs(problem_46, exs, 46)"
   ]
  },
  {
   "cell_type": "code",
   "execution_count": null,
   "metadata": {},
   "outputs": [],
   "source": [
    "exs = [(2), (2, 12), (2, 4, 12)]\n",
    "plot_probs(problem_46, exs, 46)"
   ]
  },
  {
   "cell_type": "code",
   "execution_count": null,
   "metadata": {},
   "outputs": [],
   "source": [
    "exs = [(2), (2, 4), (2, 4, 12)]\n",
    "plot_probs(problem_46, exs, 46)"
   ]
  },
  {
   "cell_type": "code",
   "execution_count": null,
   "metadata": {},
   "outputs": [],
   "source": [
    "# Plot problem 46 heatmaps\n",
    "\n",
    "\n",
    "iters = [0, 500]\n",
    "k_values = [1, 2, 3]\n",
    "types = {'d': '$P(d|h)$', 'h': '$P(h|d)$'}\n",
    "\n",
    "for k in k_values:\n",
    "    for i in iters:\n",
    "        for t, v in types.items(): \n",
    "            _ = make_and_plot_prob_heatmap(problem_46[i][k][t], f'{i} iterations, k={k}, {v}')"
   ]
  },
  {
   "cell_type": "code",
   "execution_count": null,
   "metadata": {},
   "outputs": [],
   "source": [
    "_ = make_and_plot_prob_heatmap(problem_46[500][1]['h'], '')"
   ]
  },
  {
   "cell_type": "code",
   "execution_count": null,
   "metadata": {},
   "outputs": [],
   "source": [
    "_ = make_and_plot_prob_heatmap(problem_46[0][1]['h'], '')"
   ]
  },
  {
   "cell_type": "code",
   "execution_count": null,
   "metadata": {},
   "outputs": [],
   "source": [
    "_ = make_and_plot_prob_heatmap(problem_46[0][1]['d'], '')"
   ]
  },
  {
   "cell_type": "markdown",
   "metadata": {},
   "source": [
    "- doesn't seem to be that big of a difference between literal and pragmatic learner\n",
    "- would it be helpful to plot probabilities of specific points over iterations? \n"
   ]
  },
  {
   "cell_type": "markdown",
   "metadata": {},
   "source": [
    "## Plot entropy"
   ]
  },
  {
   "cell_type": "code",
   "execution_count": null,
   "metadata": {},
   "outputs": [],
   "source": [
    "from scipy import stats"
   ]
  },
  {
   "cell_type": "code",
   "execution_count": null,
   "metadata": {},
   "outputs": [],
   "source": [
    "def plot_entropy(df_1, df_2):\n",
    "\n",
    "    mtx_1 = df_1.to_numpy()\n",
    "    mtx_2 = df_2.to_numpy()\n",
    "\n",
    "    posterior_mtx = np.stack([mtx_1, mtx_2],axis=-1)\n",
    "\n",
    "    # Compute entropy\n",
    "    entropy_mtx = stats.entropy(posterior_mtx)\n",
    "\n",
    "    # Assemble into a tidy datframe\n",
    "    entropy_df = pd.DataFrame(entropy_mtx, \n",
    "                              index=['h_%i' % (i+1) for i in range(4)],\n",
    "                              columns=['0', '500'])\n",
    "\n",
    "    entropy_df.index.name = 'hypothesis' # Hypothesis column\n",
    "    entropy_df = entropy_df.reset_index()\n",
    "\n",
    "    entropy_df = pd.melt(entropy_df, id_vars=['hypothesis'], value_vars=['0','500'],\n",
    "                         var_name='iterations', value_name='entropy')\n",
    "\n",
    "    ax = sns.relplot(data=entropy_df, x='iterations', y='entropy', col='hypothesis', kind='line')\n",
    "    ax.set(xlabel='Iterations', ylabel='Entropy: $H(h|d)$')"
   ]
  },
  {
   "cell_type": "code",
   "execution_count": null,
   "metadata": {},
   "outputs": [],
   "source": [
    "for i in range(1, 4):\n",
    "    plot_entropy(problem_34[0][i]['h'], problem_34[500][i]['h'])"
   ]
  },
  {
   "cell_type": "code",
   "execution_count": null,
   "metadata": {},
   "outputs": [],
   "source": [
    "for i in range(1, 4):\n",
    "    plot_entropy(problem_35[0][i]['h'], problem_35[500][i]['h'])"
   ]
  },
  {
   "cell_type": "code",
   "execution_count": null,
   "metadata": {},
   "outputs": [],
   "source": [
    "for i in range(1, 4):\n",
    "    plot_entropy(problem_46[0][i]['h'], problem_46[500][i]['h'])"
   ]
  },
  {
   "cell_type": "markdown",
   "metadata": {},
   "source": [
    "## Problem 49"
   ]
  },
  {
   "cell_type": "code",
   "execution_count": null,
   "metadata": {},
   "outputs": [],
   "source": [
    "problem_49 = {}\n",
    "\n",
    "problem_49[0] = find_teacher_probs(0, 49, all_problems)  # 0 iterations\n",
    "problem_49[500] = find_teacher_probs(500, 49, all_problems)  "
   ]
  },
  {
   "cell_type": "code",
   "execution_count": null,
   "metadata": {},
   "outputs": [],
   "source": [
    "plot_high_prob_examples(problem_49, 500, 'd', 49, all_problems)"
   ]
  },
  {
   "cell_type": "code",
   "execution_count": null,
   "metadata": {},
   "outputs": [],
   "source": [
    "iters = [0, 500]\n",
    "k_values = [1, 2, 3]\n",
    "types = {'d': '$P(d|h)$', 'h': '$P(h|d)$'}\n",
    "\n",
    "for k in k_values:\n",
    "    for i in iters:\n",
    "        for t, v in types.items(): \n",
    "            _ = make_and_plot_prob_heatmap(problem_49[i][k][t], f'{i} iterations, k={k}, {v}')"
   ]
  },
  {
   "cell_type": "code",
   "execution_count": null,
   "metadata": {},
   "outputs": [],
   "source": [
    "exs = [(19), (8, 19), (8, 19, 25)]\n",
    "plot_probs(problem_49, exs, 49)"
   ]
  },
  {
   "cell_type": "code",
   "execution_count": null,
   "metadata": {},
   "outputs": [],
   "source": [
    "exs = [(22), (21, 22), (21, 22, 25)]\n",
    "plot_probs(problem_49, exs, 49)"
   ]
  },
  {
   "cell_type": "code",
   "execution_count": null,
   "metadata": {},
   "outputs": [],
   "source": [
    "exs = [(8), (8, 13), (8, 13, 27)]\n",
    "plot_probs(problem_49, exs, 49)"
   ]
  }
 ],
 "metadata": {
  "kernelspec": {
   "display_name": "Python 3",
   "language": "python",
   "name": "python3"
  },
  "language_info": {
   "codemirror_mode": {
    "name": "ipython",
    "version": 3
   },
   "file_extension": ".py",
   "mimetype": "text/x-python",
   "name": "python",
   "nbconvert_exporter": "python",
   "pygments_lexer": "ipython3",
   "version": "3.7.6"
  }
 },
 "nbformat": 4,
 "nbformat_minor": 4
}
