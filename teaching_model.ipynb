{
 "cells": [
  {
   "cell_type": "markdown",
   "metadata": {},
   "source": [
    "# Teaching model: Positive examples only\n",
    "Natalia Vélez, November 2020"
   ]
  },
  {
   "cell_type": "code",
   "execution_count": 23,
   "metadata": {},
   "outputs": [],
   "source": [
    "%matplotlib inline\n",
    "\n",
    "import numpy as np\n",
    "import pandas as pd\n",
    "import matplotlib.pyplot as plt\n",
    "import seaborn as sns\n",
    "from itertools import product\n",
    "from tqdm import notebook\n",
    "\n",
    "sns.set_style('white')\n",
    "sns.set_context('talk')"
   ]
  },
  {
   "cell_type": "markdown",
   "metadata": {},
   "source": [
    "## Set up problem"
   ]
  },
  {
   "cell_type": "markdown",
   "metadata": {},
   "source": [
    "Manually define alternatives in problem space:"
   ]
  },
  {
   "cell_type": "code",
   "execution_count": 2,
   "metadata": {},
   "outputs": [
    {
     "name": "stdout",
     "output_type": "stream",
     "text": [
      "(4, 6, 6)\n"
     ]
    }
   ],
   "source": [
    "empty_square = [\n",
    "     [0,0,0,0,0,0],\n",
    "     [0,0,0,0,0,0],\n",
    "     [0,0,0,0,0,0],\n",
    "     [0,0,0,0,0,0],\n",
    "     [0,0,0,0,0,0],\n",
    "     [0,0,0,0,0,0]\n",
    "]\n",
    "\n",
    "squareA = [\n",
    "     [0,0,0,0,0,0],\n",
    "     [0,1,1,1,1,0],\n",
    "     [0,1,1,1,1,0],\n",
    "     [0,1,1,1,1,0],\n",
    "     [0,1,1,1,1,0],\n",
    "     [0,0,0,0,0,0]\n",
    "]\n",
    "\n",
    "squareB = [\n",
    "     [0,0,0,0,0,0],\n",
    "     [0,1,0,0,0,0],\n",
    "     [0,1,1,0,0,0],\n",
    "     [0,1,1,1,0,0],\n",
    "     [0,1,1,1,1,0],\n",
    "     [0,0,0,0,0,0]\n",
    "]\n",
    "\n",
    "squareC = [\n",
    "     [0,0,0,0,0,0],\n",
    "     [0,1,1,1,1,0],\n",
    "     [0,0,1,1,1,0],\n",
    "     [0,0,0,1,1,0],\n",
    "     [0,0,0,0,1,0],\n",
    "     [0,0,0,0,0,0]\n",
    "]\n",
    "\n",
    "squareD = [\n",
    "     [0,0,0,0,0,0],\n",
    "     [0,0,1,1,0,0],\n",
    "     [0,1,1,1,1,0],\n",
    "     [0,1,1,1,1,0],\n",
    "     [0,0,1,1,0,0],\n",
    "     [0,0,0,0,0,0]\n",
    "]\n",
    "\n",
    "example_problem = np.array([squareA, squareB, squareC, squareD])\n",
    "print(example_problem.shape)"
   ]
  },
  {
   "cell_type": "markdown",
   "metadata": {},
   "source": [
    "Plot problems:"
   ]
  },
  {
   "cell_type": "code",
   "execution_count": 3,
   "metadata": {},
   "outputs": [],
   "source": [
    "def plot_problem(problem):\n",
    "    fig, ax = plt.subplots(1,4, figsize = (16,4))\n",
    "    opt_labels = 'ABCD'\n",
    "\n",
    "    for idx,ax_i in enumerate(ax):\n",
    "        hm = sns.heatmap(problem[idx,:,:], ax=ax_i,\n",
    "                         cmap='gray_r', cbar=False,\n",
    "                         linewidths=2, linecolor='#808080')\n",
    "        ax_i.set(xticks=[], yticks=[], title=opt_labels[idx])     "
   ]
  },
  {
   "cell_type": "code",
   "execution_count": 4,
   "metadata": {},
   "outputs": [
    {
     "data": {
      "image/png": "[encoded data removed]",
      "text/plain": [
       "<Figure size 1152x288 with 4 Axes>"
      ]
     },
     "metadata": {},
     "output_type": "display_data"
    }
   ],
   "source": [
    "plot_problem(example_problem)"
   ]
  },
  {
   "cell_type": "markdown",
   "metadata": {},
   "source": [
    "Plot what examples look like to the learner: "
   ]
  },
  {
   "cell_type": "code",
   "execution_count": 5,
   "metadata": {},
   "outputs": [],
   "source": [
    "def plot_example(ex, ax=None):\n",
    "    example = np.ones((6,6))*0.5\n",
    "    example.flat[list(ex)] = 1\n",
    "    #example = example.filled(0.5)\n",
    "    ax = sns.heatmap(example, vmin=0, vmax=1, \n",
    "                     cmap='gray_r', cbar=False, square = True,\n",
    "                     linewidths=1, linecolor='#808080', ax=ax)\n",
    "    ax.set(xticks=[],yticks=[])"
   ]
  },
  {
   "cell_type": "code",
   "execution_count": 6,
   "metadata": {},
   "outputs": [
    {
     "data": {
      "image/png": "[encoded data removed]",
      "text/plain": [
       "<Figure size 432x288 with 1 Axes>"
      ]
     },
     "metadata": {},
     "output_type": "display_data"
    }
   ],
   "source": [
    "plot_example((7,8,9))"
   ]
  },
  {
   "cell_type": "markdown",
   "metadata": {},
   "source": [
    "## Select examples to teach"
   ]
  },
  {
   "cell_type": "markdown",
   "metadata": {},
   "source": [
    "Get all possible positive examples for a concept"
   ]
  },
  {
   "cell_type": "code",
   "execution_count": 7,
   "metadata": {},
   "outputs": [],
   "source": [
    "def get_pos_idx(concept):\n",
    "    pos_coords = np.nonzero(concept)\n",
    "    pos_idx = np.ravel_multi_index(pos_coords, (6,6))\n",
    "\n",
    "    return list(pos_idx)"
   ]
  },
  {
   "cell_type": "markdown",
   "metadata": {},
   "source": [
    "Get all combinations of n examples:"
   ]
  },
  {
   "cell_type": "code",
   "execution_count": 8,
   "metadata": {},
   "outputs": [],
   "source": [
    "def is_increasing(l): return all(l[i] < l[i+1] for i in range(len(l) - 1))\n",
    "def n_examples(examples, n):\n",
    "    all_examples = list(product(*([examples] * n)))\n",
    "    valid_examples = [e for e in all_examples if is_increasing(e)]\n",
    "    \n",
    "    return valid_examples"
   ]
  },
  {
   "cell_type": "markdown",
   "metadata": {},
   "source": [
    "Check if a concept is consistent with presented examples;"
   ]
  },
  {
   "cell_type": "code",
   "execution_count": 9,
   "metadata": {},
   "outputs": [],
   "source": [
    "def is_valid(concept, example):\n",
    "    # What does the learner's screen look like?\n",
    "    mask = np.ones((6,6))\n",
    "    mask.flat[list(example)] = 0\n",
    "    mask = mask.astype(np.bool)\n",
    "    revealed = np.ma.masked_array(np.ones((6,6)), mask=mask)\n",
    "\n",
    "    # Does it match the concept?\n",
    "    return all(revealed[~mask] == concept[~mask])"
   ]
  },
  {
   "cell_type": "markdown",
   "metadata": {},
   "source": [
    "Check all concepts in a teaching problem:"
   ]
  },
  {
   "cell_type": "code",
   "execution_count": 10,
   "metadata": {},
   "outputs": [],
   "source": [
    "def all_valid(problem, example):\n",
    "    n_problems = problem.shape[0]\n",
    "    valid = [is_valid(problem[i,:,:], example) for i in range(n_problems)]\n",
    "    return valid"
   ]
  },
  {
   "cell_type": "code",
   "execution_count": 11,
   "metadata": {},
   "outputs": [
    {
     "data": {
      "text/plain": [
       "[True, False, True, False]"
      ]
     },
     "execution_count": 11,
     "metadata": {},
     "output_type": "execute_result"
    }
   ],
   "source": [
    "all_valid(example_problem, [7,8,9])"
   ]
  },
  {
   "cell_type": "markdown",
   "metadata": {},
   "source": [
    "## Teacher-learner model"
   ]
  },
  {
   "cell_type": "markdown",
   "metadata": {},
   "source": [
    "### Learner 0"
   ]
  },
  {
   "cell_type": "code",
   "execution_count": 12,
   "metadata": {},
   "outputs": [],
   "source": [
    "def learner0(problem, example):\n",
    "    valid = all_valid(problem, example)\n",
    "    n_valid = np.sum(valid)\n",
    "    p_h = valid/n_valid\n",
    "    \n",
    "    return p_h"
   ]
  },
  {
   "cell_type": "code",
   "execution_count": 13,
   "metadata": {},
   "outputs": [
    {
     "data": {
      "text/plain": [
       "array([0.5, 0. , 0.5, 0. ])"
      ]
     },
     "execution_count": 13,
     "metadata": {},
     "output_type": "execute_result"
    }
   ],
   "source": [
    "learner0(example_problem, [7,8,9])"
   ]
  },
  {
   "cell_type": "markdown",
   "metadata": {},
   "source": [
    "### Teacher 0"
   ]
  },
  {
   "cell_type": "code",
   "execution_count": 18,
   "metadata": {},
   "outputs": [],
   "source": [
    "def teacher0(problem,n,h):\n",
    "    # Get all possible positive examples for a concept\n",
    "    concept = problem[h,:,:]\n",
    "    pos_idx = get_pos_idx(concept)\n",
    "    examples = n_examples(pos_idx, n)\n",
    "\n",
    "    # Select examples, given learner's belief in true hypothesis\n",
    "    p_h = np.array([learner0(problem, e) for e in examples])\n",
    "    d_h = p_h[:,h]/np.sum(p_h[:,h])\n",
    "\n",
    "    return d_h,examples"
   ]
  },
  {
   "cell_type": "markdown",
   "metadata": {},
   "source": [
    "### Learner 1"
   ]
  },
  {
   "cell_type": "code",
   "execution_count": 19,
   "metadata": {},
   "outputs": [],
   "source": [
    "def learner1(problem, example):\n",
    "    prior = learner0(problem, example) \n",
    "    h_d = []\n",
    "    for h in range(problem.shape[0]):\n",
    "        if prior[h] > 0:\n",
    "            d_h,all_examples = teacher0(problem, len(example), h)\n",
    "            ex_idx = all_examples.index(example)\n",
    "            h_d.append(d_h[ex_idx])\n",
    "        else:\n",
    "            h_d.append(0)\n",
    "\n",
    "    h_d = np.array(h_d)\n",
    "    h_d = h_d/np.sum(h_d)\n",
    "    \n",
    "    return h_d"
   ]
  },
  {
   "cell_type": "markdown",
   "metadata": {},
   "source": [
    "### Teacher 1"
   ]
  },
  {
   "cell_type": "code",
   "execution_count": 36,
   "metadata": {},
   "outputs": [],
   "source": [
    "def teacher1(problem,n,h):\n",
    "    # Get all possible positive examples for a concept\n",
    "    concept = problem[h,:,:]\n",
    "    pos_idx = get_pos_idx(concept)\n",
    "    examples = n_examples(pos_idx, n)\n",
    "\n",
    "    # Select examples, given learner's belief in true hypothesis\n",
    "    h_d = []\n",
    "    for e in notebook.tqdm(examples):\n",
    "        h_d.append(learner1(problem, e))\n",
    "    h_d = np.array(h_d)\n",
    "    print(h_d.shape)\n",
    "    d_h = h_d[:,h]/np.sum(h_d[:,h])\n",
    "\n",
    "    return d_h,examples"
   ]
  },
  {
   "cell_type": "code",
   "execution_count": 41,
   "metadata": {},
   "outputs": [
    {
     "data": {
      "application/vnd.jupyter.widget-view+json": {
       "model_id": "f5fc2af879fc4b25b3ccfb300d92aa4a",
       "version_major": 2,
       "version_minor": 0
      },
      "text/plain": [
       "HBox(children=(FloatProgress(value=0.0, max=220.0), HTML(value='')))"
      ]
     },
     "metadata": {},
     "output_type": "display_data"
    },
    {
     "name": "stdout",
     "output_type": "stream",
     "text": [
      "\n",
      "(220, 4)\n"
     ]
    }
   ],
   "source": [
    "d_h, examples =teacher1(example_problem,3,3)"
   ]
  },
  {
   "cell_type": "code",
   "execution_count": 57,
   "metadata": {},
   "outputs": [
    {
     "data": {
      "text/plain": [
       "<matplotlib.axes._subplots.AxesSubplot at 0x7faa9948e790>"
      ]
     },
     "execution_count": 57,
     "metadata": {},
     "output_type": "execute_result"
    },
    {
     "data": {
      "image/png": "[encoded data removed]",
      "text/plain": [
       "<Figure size 432x288 with 2 Axes>"
      ]
     },
     "metadata": {},
     "output_type": "display_data"
    }
   ],
   "source": [
    "flat_examples = [item for sublist in examples for item in sublist]\n",
    "idx, freq = np.unique(flat_examples, return_counts = True)\n",
    "freq = freq/np.sum(freq)\n",
    "freq_array = np.zeros((6,6))\n",
    "freq_array.flat[idx] = freq\n",
    "sns.heatmap(freq_array)"
   ]
  },
  {
   "cell_type": "code",
   "execution_count": 56,
   "metadata": {},
   "outputs": [
    {
     "data": {
      "text/plain": [
       "array([0.08333333, 0.08333333, 0.08333333, 0.08333333, 0.08333333,\n",
       "       0.08333333, 0.08333333, 0.08333333, 0.08333333, 0.08333333,\n",
       "       0.08333333, 0.08333333])"
      ]
     },
     "execution_count": 56,
     "metadata": {},
     "output_type": "execute_result"
    }
   ],
   "source": [
    "freq"
   ]
  },
  {
   "cell_type": "markdown",
   "metadata": {},
   "source": [
    "### Learner 2"
   ]
  },
  {
   "cell_type": "code",
   "execution_count": null,
   "metadata": {},
   "outputs": [],
   "source": []
  }
 ],
 "metadata": {
  "kernelspec": {
   "display_name": "Python 3",
   "language": "python",
   "name": "python3"
  },
  "language_info": {
   "codemirror_mode": {
    "name": "ipython",
    "version": 3
   },
   "file_extension": ".py",
   "mimetype": "text/x-python",
   "name": "python",
   "nbconvert_exporter": "python",
   "pygments_lexer": "ipython3",
   "version": "3.7.9"
  }
 },
 "nbformat": 4,
 "nbformat_minor": 4
}
